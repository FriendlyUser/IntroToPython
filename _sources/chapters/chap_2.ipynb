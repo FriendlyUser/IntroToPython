{
 "cells": [
  {
   "cell_type": "markdown",
   "id": "537b6a47",
   "metadata": {},
   "source": [
    "# Chapter 2 Basic syntax and data types"
   ]
  },
  {
   "cell_type": "code",
   "execution_count": 1,
   "id": "9ecc10df",
   "metadata": {},
   "outputs": [
    {
     "name": "stdout",
     "output_type": "stream",
     "text": [
      "The Fibonacci sequence up to the 10 th term is:\n",
      "0 1 1 2 3 5 8 13 21 34 "
     ]
    }
   ],
   "source": [
    "# Define a function to find the nth Fibonacci number\n",
    "def fibonacci(n):\n",
    "  # Base cases: 0 and 1\n",
    "  if n == 0:\n",
    "    return 0\n",
    "  elif n == 1:\n",
    "    return 1\n",
    "  # Recursive case: use the formula F(n) = F(n-1) + F(n-2)\n",
    "  else:\n",
    "    return fibonacci(n-1) + fibonacci(n-2)\n",
    "\n",
    "# Ask the user for a positive integer\n",
    "n = 10\n",
    "\n",
    "# Print the Fibonacci sequence up to the nth term\n",
    "print(\"The Fibonacci sequence up to the\", n, \"th term is:\")\n",
    "for i in range(n):\n",
    "  print(fibonacci(i), end=\" \")"
   ]
  }
 ],
 "metadata": {
  "jupytext": {
   "formats": "md:myst",
   "text_representation": {
    "extension": ".md",
    "format_name": "myst",
    "format_version": 0.13,
    "jupytext_version": "1.11.5"
   }
  },
  "kernelspec": {
   "display_name": "Python 3",
   "language": "python",
   "name": "python3"
  },
  "language_info": {
   "codemirror_mode": {
    "name": "ipython",
    "version": 3
   },
   "file_extension": ".py",
   "mimetype": "text/x-python",
   "name": "python",
   "nbconvert_exporter": "python",
   "pygments_lexer": "ipython3",
   "version": "3.10.10"
  },
  "source_map": [
   13,
   17
  ]
 },
 "nbformat": 4,
 "nbformat_minor": 5
}