{
 "cells": [
  {
   "cell_type": "markdown",
   "id": "28ca3100",
   "metadata": {},
   "source": [
    "# Chapter 3: Control flow and functions\n",
    "\n",
    "Conditional statements allow you to execute specific pieces of code based on certain conditions. In Python, the most common conditional statement is the `if` statement. The basic syntax for the `if` statement is:\n",
    "\n",
    "\n",
    "```python\n",
    "if condition:\n",
    " # execute this code if the condition is True\n",
    "```\n",
    "The `condition` can be any expression that evaluates to a Boolean value (i.e., `True` or `False`). If the `condition` is `True`, then the code inside the `if` block is executed. If the `condition` is `False`, then the code inside the `if` block is skipped.\n",
    "\n",
    "You can also use the `else` statement to execute code when the `condition` is `False`. The basic syntax for the `if-else` statement is:\n",
    "\n",
    "\n",
    "```python\n",
    "if condition:\n",
    " # execute this code if the condition is True\n",
    "else:\n",
    " # execute this code if the condition is False\n",
    "```\n",
    "If the `condition` is `True`, then the code inside the `if` block is executed, and the code inside the `else` block is skipped. If the `condition` is `False`, then the code inside the `if` block is skipped, and the code inside the `else` block is executed.\n",
    "\n",
    "Sometimes, you may need to check multiple conditions. In that case, you can use the `elif` statement. The basic syntax for the `if-elif-else` statement is:\n",
    "\n",
    "\n",
    "```python\n",
    "if condition1:\n",
    " # execute this code if condition1 is True\n",
    "elif condition2:\n",
    " # execute this code if condition2 is True\n",
    "elif condition3:\n",
    " # execute this code if condition3 is True\n",
    "else:\n",
    " # execute this code if all conditions are False\n",
    "```\n",
    "The `elif` statement allows you to check multiple conditions in a chain. The code inside the first `if` or `elif` block that evaluates to `True` is executed, and the rest of the code is skipped. If none of the conditions are `True`, then the code inside the `else` block is executed.\n",
    "\n",
    "Here is an example that shows how to use conditional statements in Python:"
   ]
  },
  {
   "cell_type": "code",
   "execution_count": 1,
   "id": "67f4f6fb",
   "metadata": {},
   "outputs": [
    {
     "name": "stdout",
     "output_type": "stream",
     "text": [
      "x is positive\n"
     ]
    }
   ],
   "source": [
    "x = 10\n",
    "\n",
    "if x > 0:\n",
    " print(\"x is positive\")\n",
    "elif x < 0:\n",
    " print(\"x is negative\")\n",
    "else:\n",
    " print(\"x is zero\")"
   ]
  },
  {
   "cell_type": "markdown",
   "id": "27ab0cfe",
   "metadata": {},
   "source": [
    "In this example, we use an `if-elif-else` statement to check the value of `x`. If `x` is greater than `0`, then we print \"x is positive\". If `x` is less than `0`, then we print \"x is negative\". If `x` is equal to `0`, then we print \"x is zero\".\n",
    "\n",
    "\n",
    "Looping statements allow you to repeat a block of code multiple times. In Python, there are two types of loops: `for` and `while` loops.\n",
    "\n",
    "The `for` loop is used to iterate over a sequence (e.g., a list, tuple, string, etc.). The basic syntax for the `for` loop is:\n",
    "\n",
    "\n",
    "```python\n",
    "for variable in sequence:\n",
    " # execute this code for each item in the sequence\n",
    "```\n",
    "The `variable` is a new variable that takes on the value of each item in the `sequence` for each iteration of the loop. The code inside the `for` block is executed once for each item in the sequence.\n",
    "\n",
    "Here is an example that shows how to use a `for` loop to iterate over a list:"
   ]
  },
  {
   "cell_type": "code",
   "execution_count": 2,
   "id": "0cc495fd",
   "metadata": {},
   "outputs": [
    {
     "name": "stdout",
     "output_type": "stream",
     "text": [
      "apple\n",
      "banana\n",
      "cherry\n"
     ]
    }
   ],
   "source": [
    "fruits = [\"apple\", \"banana\", \"cherry\"]\n",
    "\n",
    "for fruit in fruits:\n",
    " print(fruit)"
   ]
  },
  {
   "cell_type": "markdown",
   "id": "235ac7c9",
   "metadata": {},
   "source": [
    "In this example, we use a `for` loop to iterate over the `fruits` list. For each item in the list, we print the value of the `fruit` variable.\n",
    "\n",
    "The `while` loop is used to repeat a block of code as long as a condition is `True`. The basic syntax for the `while` loop is:\n",
    "\n",
    "\n",
    "```python\n",
    "while condition:\n",
    " # execute this code as long as the condition is True\n",
    "```\n",
    "The `condition` can be any expression that evaluates to a Boolean value (i.e., `True` or `False`). The code inside the `while` block is executed repeatedly as long as the condition is `True`.\n",
    "\n",
    "Here is an example that shows how to use a `while` loop to repeat a block of code:"
   ]
  },
  {
   "cell_type": "code",
   "execution_count": 3,
   "id": "38ab2b22",
   "metadata": {},
   "outputs": [
    {
     "name": "stdout",
     "output_type": "stream",
     "text": [
      "1\n",
      "2\n",
      "3\n",
      "4\n",
      "5\n",
      "6\n",
      "7\n",
      "8\n",
      "9\n",
      "10\n"
     ]
    }
   ],
   "source": [
    "i = 1\n",
    "\n",
    "while i <= 10:\n",
    " print(i)\n",
    " i += 1"
   ]
  },
  {
   "cell_type": "markdown",
   "id": "9e7fa38c",
   "metadata": {},
   "source": [
    "In this example, we use a `while` loop to print the numbers from `1` to `10`. The loop condition (`i <= 10`) is `True` as long as `i` is less than or equal to `10`. Inside the loop, we print the value of `i` and then increment `i` by `1`. The loop repeats until `i` is greater than `10`.\n",
    "\n",
    "When using loops, it's important to ensure that the condition or sequence you are using will eventually terminate, or else the loop will continue running indefinitely (known as an infinite loop). To avoid infinite loops, you can use a `break` statement to exit the loop prematurely, or a `continue` statement to skip the current iteration of the loop and move on to the next one.\n",
    "\n",
    "\n",
    "In Python, you can use `break`, `continue`, and `pass` statements to control the flow of loops.\n",
    "\n",
    "The `break` statement allows you to exit a loop prematurely. When the `break` statement is encountered inside a loop, the loop is immediately exited and the program continues with the code that comes after the loop.\n",
    "\n",
    "Here is an example that shows how to use the `break` statement to exit a loop:"
   ]
  },
  {
   "cell_type": "code",
   "execution_count": 4,
   "id": "4cb6be2d",
   "metadata": {},
   "outputs": [
    {
     "name": "stdout",
     "output_type": "stream",
     "text": [
      "apple\n"
     ]
    }
   ],
   "source": [
    "fruits = [\"apple\", \"banana\", \"cherry\"]\n",
    "\n",
    "for fruit in fruits:\n",
    " if fruit == \"banana\":\n",
    "  break\n",
    " print(fruit)"
   ]
  },
  {
   "cell_type": "markdown",
   "id": "6b4d1b04",
   "metadata": {},
   "source": [
    "In this example, we use a `for` loop to iterate over the `fruits` list. Inside the loop, we check if the value of `fruit` is `\"banana\"`. If it is, we exit the loop using the `break` statement. If it's not, we print the value of `fruit`.\n",
    "\n",
    "The `continue` statement allows you to skip the current iteration of a loop and move on to the next one. When the `continue` statement is encountered inside a loop, the current iteration of the loop is skipped, and the loop continues with the next iteration.\n",
    "\n",
    "Here is an example that shows how to use the `continue` statement to skip an iteration of a loop:"
   ]
  },
  {
   "cell_type": "code",
   "execution_count": 5,
   "id": "0ff1b7b1",
   "metadata": {},
   "outputs": [
    {
     "name": "stdout",
     "output_type": "stream",
     "text": [
      "apple\n",
      "cherry\n"
     ]
    }
   ],
   "source": [
    "fruits = [\"apple\", \"banana\", \"cherry\"]\n",
    "\n",
    "for fruit in fruits:\n",
    " if fruit == \"banana\":\n",
    "  continue\n",
    " print(fruit)"
   ]
  },
  {
   "cell_type": "markdown",
   "id": "9781dc5a",
   "metadata": {},
   "source": [
    "In this example, we use a `for` loop to iterate over the `fruits` list. Inside the loop, we check if the value of `fruit` is `\"banana\"`. If it is, we skip the current iteration of the loop using the `continue` statement. If it's not, we print the value of `fruit`.\n",
    "\n",
    "The `pass` statement is used as a placeholder when you need to include an empty block of code. When the `pass` statement is encountered, nothing happens, and the program continues with the next statement.\n",
    "\n",
    "Here is an example that shows how to use the `pass` statement to include an empty block of code:"
   ]
  },
  {
   "cell_type": "code",
   "execution_count": 6,
   "id": "52391c4f",
   "metadata": {},
   "outputs": [
    {
     "name": "stdout",
     "output_type": "stream",
     "text": [
      "apple\n",
      "cherry\n"
     ]
    }
   ],
   "source": [
    "fruits = [\"apple\", \"banana\", \"cherry\"]\n",
    "\n",
    "for fruit in fruits:\n",
    " if fruit == \"banana\":\n",
    "  pass\n",
    " else:\n",
    "  print(fruit)"
   ]
  },
  {
   "cell_type": "markdown",
   "id": "65a8ee57",
   "metadata": {},
   "source": [
    "In this example, we use a `for` loop to iterate over the `fruits` list. Inside the loop, we check if the value of `fruit` is `\"banana\"`. If it is, we do nothing using the `pass` statement. If it's not, we print the value of `fruit`.\n",
    "\n",
    "By using `break`, `continue`, and `pass` statements, you can control the flow of loops in Python and make your code more efficient and readable.\n",
    "\n",
    "\n",
    "In Python, you can define and call functions using the `def` keyword.\n",
    "\n",
    "Here is an example of how to define a function:"
   ]
  },
  {
   "cell_type": "code",
   "execution_count": 7,
   "id": "208440c7",
   "metadata": {},
   "outputs": [],
   "source": [
    "def greet(name):\n",
    " print(f\"Hello, {name}!\")"
   ]
  },
  {
   "cell_type": "markdown",
   "id": "24d6ed1b",
   "metadata": {},
   "source": [
    "In this example, we define a function called `greet` that takes one parameter called `name`. Inside the function, we print a message that greets the `name` parameter.\n",
    "\n",
    "Here is an example of how to call the `greet` function:"
   ]
  },
  {
   "cell_type": "code",
   "execution_count": 8,
   "id": "944ab737",
   "metadata": {},
   "outputs": [
    {
     "name": "stdout",
     "output_type": "stream",
     "text": [
      "Hello, John!\n"
     ]
    }
   ],
   "source": [
    "greet(\"John\")"
   ]
  },
  {
   "cell_type": "markdown",
   "id": "5fd684b9",
   "metadata": {},
   "source": [
    "In this example, we call the `greet` function and pass in the value `\"John\"` as the `name` parameter. The function then prints the message \"Hello, John!\".\n",
    "\n",
    "You can also define functions that take multiple parameters:"
   ]
  },
  {
   "cell_type": "code",
   "execution_count": 9,
   "id": "c1b0ac1f",
   "metadata": {},
   "outputs": [],
   "source": [
    "def add_numbers(x, y):\n",
    " return x + y"
   ]
  },
  {
   "cell_type": "markdown",
   "id": "4721a14f",
   "metadata": {},
   "source": [
    "In this example, we define a function called `add_numbers` that takes two parameters called `x` and `y`. Inside the function, we use the `return` keyword to return the sum of `x` and `y`.\n",
    "\n",
    "Here is an example of how to call the `add_numbers` function:"
   ]
  },
  {
   "cell_type": "code",
   "execution_count": 10,
   "id": "d334e26e",
   "metadata": {},
   "outputs": [
    {
     "name": "stdout",
     "output_type": "stream",
     "text": [
      "7\n"
     ]
    }
   ],
   "source": [
    "result = add_numbers(3, 4)\n",
    "print(result)"
   ]
  },
  {
   "cell_type": "markdown",
   "id": "3268c089",
   "metadata": {},
   "source": [
    "In this example, we call the `add_numbers` function and pass in the values `3` and `4` as the `x` and `y` parameters. The function then returns the sum of `3` and `4`, which is assigned to the `result` variable. Finally, we print the value of `result`, which is `7`.\n",
    "\n",
    "By defining and calling functions with parameters, you can create reusable blocks of code that can be called with different input values to produce different output values.\n",
    "\n",
    "Here is an example of how to call the `add_numbers` function and assign the return value to a variable:\n",
    "\n",
    "You can also use the `return` statement to return multiple values from a function. To do this, you can separate the values with commas:"
   ]
  },
  {
   "cell_type": "code",
   "execution_count": 11,
   "id": "f53045b7",
   "metadata": {},
   "outputs": [],
   "source": [
    "def square_and_cube(x):\n",
    " square = x ** 2\n",
    " cube = x ** 3\n",
    " return square, cube"
   ]
  },
  {
   "cell_type": "markdown",
   "id": "fa0e763c",
   "metadata": {},
   "source": [
    "In this example, we define a function called `square_and_cube` that takes one parameter called `x`. Inside the function, we calculate the square and cube of `x`, and then use the `return` statement to send both values back.\n",
    "\n",
    "Here is an example of how to call the `square_and_cube` function and assign the return values to variables:"
   ]
  },
  {
   "cell_type": "code",
   "execution_count": 12,
   "id": "e31eb634",
   "metadata": {},
   "outputs": [
    {
     "name": "stdout",
     "output_type": "stream",
     "text": [
      "4\n",
      "8\n"
     ]
    }
   ],
   "source": [
    "square, cube = square_and_cube(2)\n",
    "print(square)\n",
    "print(cube)"
   ]
  },
  {
   "cell_type": "markdown",
   "id": "db1d576c",
   "metadata": {},
   "source": [
    "In this example, we call the `square_and_cube` function and pass in the value `2` as the `x` parameter. The function then returns the square and cube of `2`, which are assigned to the `square` and `cube` variables. Finally, we print the values of `square` and `cube`, which are `4` and `8` respectively.\n",
    "\n",
    "By using the `return` statement, you can send values back from functions, which allows you to use the output of a function in other parts of your program.\n",
    "\n",
    "## Generator Functions\n",
    "\n",
    "In Python, you can use the yield function to create generators.\n",
    "\n",
    "A generator is a type of iterator that can be used to generate a sequence of values on the fly. Generators are useful for working with large datasets or infinite sequences, as they allow you to generate values one at a time, rather than storing all of the values in memory at once.\n",
    "\n",
    "Here is an example of a generator function that uses the yield function:"
   ]
  },
  {
   "cell_type": "code",
   "execution_count": 13,
   "id": "fcee988e",
   "metadata": {},
   "outputs": [],
   "source": [
    "def countdown(n):\n",
    "    while n > 0:\n",
    "        yield n\n",
    "        n -= 1"
   ]
  },
  {
   "cell_type": "markdown",
   "id": "7b999a17",
   "metadata": {},
   "source": [
    "In this example, we define a generator function called countdown that takes one parameter called n. Inside the function, we use a while loop to generate a sequence of values from n down to 1. Each time through the loop, we use the yield keyword to send the current value back as the next value in the sequence.\n",
    "\n",
    "Here is an example of how to use the countdown generator:"
   ]
  },
  {
   "cell_type": "code",
   "execution_count": 14,
   "id": "505960eb",
   "metadata": {},
   "outputs": [
    {
     "name": "stdout",
     "output_type": "stream",
     "text": [
      "5\n",
      "4\n",
      "3\n",
      "2\n",
      "1\n"
     ]
    }
   ],
   "source": [
    "for i in countdown(5):\n",
    "    print(i)"
   ]
  },
  {
   "cell_type": "markdown",
   "id": "135733de",
   "metadata": {},
   "source": [
    "In this example, we use a for loop to iterate over the values generated by the countdown generator. Each time through the loop, the next value in the sequence is generated by the yield keyword and printed to the console.\n",
    "\n",
    "The output of this program would be:\n",
    "\n",
    "```bash\n",
    "5\n",
    "4\n",
    "3\n",
    "2\n",
    "1\n",
    "```\n",
    "\n",
    "By using the yield function, you can create generators that generate sequences of values on the fly,"
   ]
  }
 ],
 "metadata": {
  "jupytext": {
   "formats": "md:myst",
   "text_representation": {
    "extension": ".md",
    "format_name": "myst",
    "format_version": 0.13,
    "jupytext_version": "1.11.5"
   }
  },
  "kernelspec": {
   "display_name": "Python 3",
   "language": "python",
   "name": "python3"
  },
  "language_info": {
   "codemirror_mode": {
    "name": "ipython",
    "version": 3
   },
   "file_extension": ".py",
   "mimetype": "text/x-python",
   "name": "python",
   "nbconvert_exporter": "python",
   "pygments_lexer": "ipython3",
   "version": "3.10.10"
  },
  "source_map": [
   13,
   55,
   64,
   82,
   87,
   102,
   108,
   121,
   128,
   136,
   143,
   151,
   159,
   170,
   173,
   179,
   181,
   187,
   190,
   196,
   199,
   209,
   214,
   220,
   224,
   238,
   243,
   249,
   252
  ]
 },
 "nbformat": 4,
 "nbformat_minor": 5
}