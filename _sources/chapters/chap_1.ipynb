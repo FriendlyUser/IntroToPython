{
 "cells": [
  {
   "cell_type": "markdown",
   "id": "7a330ff7",
   "metadata": {},
   "source": [
    "# Chapter 1: Introduction To Python\n",
    "\n",
    "## History of Python\n",
    "```{note}\n",
    "Python is a high-level, interpreted programming language that has become increasingly popular in recent years. Its design philosophy emphasizes code readability, which means that it is easy for humans to read and write. It is also known for its flexibility and versatility, with a wide range of applications that include web development, data analysis, artificial intelligence, and more.\n",
    "```\n",
    "\n",
    "One of the biggest advantages of using Python is its simplicity. Python code is often much shorter and easier to read than other languages, which makes it easier to learn and understand. Additionally, Python has a large community of developers who contribute to the language and its ecosystem. This means that there are many libraries and frameworks available for Python, making it easier to write complex programs quickly.\n",
    "\n",
    "Python also has a reputation for being beginner-friendly. Many universities and coding bootcamps use Python as their first programming language, and there are many online resources available for people who want to learn Python. This makes it an ideal language for people who are new to programming or who want to transition from another field into software development.\n",
    "\n",
    "Another advantage of using Python is its versatility. Because it is a general-purpose language, Python can be used for a wide range of applications, including web development, data analysis, scientific computing, and more. This means that Python developers have a wide range of career paths available to them, and can work in many different industries.\n",
    "\n",
    "Python is also known for its performance. Although it is an interpreted language, which means that it is not compiled directly to machine code, Python has many tools available that can improve its performance. For example, the PyPy interpreter can improve the performance of Python code by up to 10x, and the Numba library can accelerate scientific computing code by compiling it to machine code.\n",
    "\n",
    "In summary, Python is a versatile and powerful programming language that has many advantages over other languages. Its simplicity, flexibility, and performance make it an ideal language for a wide range of applications, and its popularity and large community mean that there are many resources available for people who want to learn it. If you are interested in software development, data analysis, or artificial intelligence, learning Python is a great place to start.\n",
    "\n",
    "\n",
    "Python is a high-level, interpreted, general-purpose programming language that has gained popularity among developers in recent years. It was created by Guido van Rossum and was first released in 1991. Since then, it has undergone many updates and improvements, and has become one of the most widely used programming languages in the world.\n",
    "\n",
    "One of the defining features of Python is its high-level nature. This means that Python code is closer to human language than to machine code. Python is often called a \"readable\" language, because its syntax is designed to be easy to understand and follow. For example, in Python, the code to print \"Hello, World!\" to the console is simply:"
   ]
  },
  {
   "cell_type": "code",
   "execution_count": 1,
   "id": "e3b2f417",
   "metadata": {},
   "outputs": [
    {
     "name": "stdout",
     "output_type": "stream",
     "text": [
      "Hello, World!\n"
     ]
    }
   ],
   "source": [
    "print(\"Hello, World!\")"
   ]
  },
  {
   "cell_type": "markdown",
   "id": "020e8b46",
   "metadata": {},
   "source": [
    "Python's high-level nature means that it is often faster and easier to write code in Python than in other programming languages. This is especially true for tasks that involve data analysis or machine learning, where Python's ease of use and large number of available libraries can be a significant advantage.\n",
    "\n",
    "Another defining feature of Python is its interpreted nature. This means that Python code is executed by an interpreter, rather than being compiled directly to machine code. This allows for faster development times, as developers can test their code immediately without having to wait for the entire program to be compiled. However, interpreted languages are often slower than compiled languages, because the interpreter has to translate the code into machine code at runtime.\n",
    "\n",
    "Python is also a general-purpose programming language. This means that it can be used for a wide range of applications, from web development to scientific computing to machine learning. Python's versatility is due in large part to its large and active community of developers, who have created many libraries and frameworks for the language. These libraries and frameworks can be used to accomplish a wide range of tasks, from building websites to analyzing large datasets to creating neural networks.\n",
    "\n",
    "One of the most important libraries in Python's ecosystem is the Python Standard Library. This library contains many built-in functions and modules that can be used to accomplish common programming tasks. For example, the `os` module can be used to interact with the operating system, while the `datetime` module can be used to work with dates and times.\n",
    "\n",
    "In conclusion, Python is a high-level, interpreted, general-purpose programming language that is widely used by developers around the world. Its readability, ease of use, and versatility make it an ideal language for many different applications, and its large and active community of developers ensures that there are many resources available for people who want to learn it. If you are interested in learning to code, or in expanding your programming skills, Python is an excellent language to consider.\n",
    "\n",
    "\n",
    "Python is a versatile and powerful programming language with many features that make it a popular choice among developers. In this article, we'll explore some of the key benefits and features of Python, including its readability, simplicity, portability, support for multiple programming paradigms, rich libraries, and active community.\n",
    "\n",
    "Readability:\n",
    "One of the most significant benefits of Python is its readability. Python's syntax is designed to be intuitive and easy to read, which makes it a great choice for beginners and experts alike. Python code is often much shorter and more readable than other programming languages, which makes it easier to understand and maintain. Additionally, Python's clear and concise syntax reduces the likelihood of errors and bugs, which can save developers time and headaches.\n",
    "\n",
    "Simplicity:\n",
    "Python is also known for its simplicity. The language is designed to be easy to learn and use, with a focus on removing unnecessary complexity. Python's simplicity makes it an excellent choice for beginners, but it is also a favorite of experienced developers who value the language's elegant and straightforward design.\n",
    "\n",
    "Portability:\n",
    "Another benefit of Python is its portability. Python code can run on many different platforms and operating systems, which makes it a great choice for cross-platform development. This portability means that developers can write code once and run it on many different devices and systems, which can save time and effort.\n",
    "\n",
    "Multiple Programming Paradigms:\n",
    "Python also supports multiple programming paradigms, which means that developers can choose the programming style that works best for their needs. For example, Python supports object-oriented programming, functional programming, and procedural programming. This flexibility makes it possible to write code in a style that is comfortable and effective for the developer.\n",
    "\n",
    "Rich Libraries:\n",
    "Python is known for its rich libraries, which are collections of code that can be used to accomplish specific tasks. Python's libraries make it easier to write complex programs quickly and efficiently, by providing pre-written code that can be reused and adapted. Some of the most popular Python libraries include NumPy for numerical computing, pandas for data analysis, and TensorFlow for machine learning.\n",
    "\n",
    "Active Community:\n",
    "Finally, Python has an active and supportive community of developers who contribute to the language and its ecosystem. This community provides a wealth of resources and support for developers who are learning Python or working on Python projects. Python's community includes many open-source projects, online forums, and coding communities.\n",
    "\n",
    "\n",
    "Python is also highly portable, meaning that code written in Python can run on many different platforms and operating systems. This portability makes it an excellent choice for cross-platform development, as developers can write code once and run it on many different devices and systems. Python's portability also means that developers can use it for a wide range of applications, from desktop and web applications to scientific and data analysis tools.\n",
    "\n",
    "Python's support for multiple programming paradigms is another benefit of the language. \n",
    "\n",
    "Python's support for multiple programming paradigms is another key benefit of the language. Python supports both object-oriented programming and functional programming, which are two of the most popular programming paradigms.\n",
    "\n",
    "Object-oriented programming (OOP) is a programming paradigm that focuses on creating reusable code by organizing data and behavior into objects. In OOP, objects are instances of classes, which are defined by their properties and methods. Python is an excellent language for object-oriented programming, as it provides robust support for classes and objects, as well as inheritance, polymorphism, and encapsulation.\n",
    "\n",
    "Functional programming (FP) is another popular programming paradigm that emphasizes the use of functions to solve problems. In FP, functions are treated as first-class citizens, which means they can be passed as arguments to other functions, returned as values from functions, and stored in variables. Python provides support for functional programming, including lambda functions.\n",
    "\n",
    "## Introduction to Python: Installing Python and Setting up the Development Environment\n",
    "\n",
    "Python is a high-level programming language that is widely used in various fields, such as data science, web development, artificial intelligence, and more. Installing Python and setting up the development environment is essential for working with Python effectively. In this post, we will cover how to install Python and set up the development environment on Windows, Linux, and MacOS.\n",
    "\n",
    "Installing Python on Windows\n",
    "\n",
    "There are various ways to install Python on Windows. However, we recommend using Chocolatey, a package manager for Windows, to install Python. Here's how to install Python on Windows using Chocolatey:\n",
    "\n",
    "1. Open PowerShell as an administrator. You can do this by pressing the Windows key, typing PowerShell, and then right-clicking on the PowerShell icon and selecting \"Run as administrator.\"\n",
    "2. Install Chocolatey by entering the following command:\n",
    "\n",
    "\n",
    "```powershell\n",
    "Set-ExecutionPolicy Bypass -Scope Process -Force; [System.Net.WebRequest]::DefaultWebProxy.Credentials = [System.Net.CredentialCache]::DefaultNetworkCredentials; iex ((New-Object System.Net.WebClient).DownloadString('https://chocolatey.org/install.ps1'))\n",
    "```\n",
    "\n",
    "3. Install Python by entering the following command:\n",
    "\n",
    "\n",
    "```powershell\n",
    "choco install python\n",
    "```\n",
    "4. Verify that Python is installed correctly by opening a command prompt and entering the following command:\n",
    "\n",
    "\n",
    "```bash\n",
    "python --version\n",
    "```\n",
    "Installing Python on Linux\n",
    "\n",
    "Most Linux distributions come with Python pre-installed. However, if you need to install Python manually, you can do so using the package manager of your distribution. Here's how to install Python on Ubuntu, a popular Linux distribution:\n",
    "\n",
    "1. Open a terminal and update the package index by entering the following command:\n",
    "\n",
    "\n",
    "```bash\n",
    "sudo apt-get update\n",
    "```\n",
    "2. Install Python by entering the following command:\n",
    "\n",
    "\n",
    "```bash\n",
    "sudo apt-get install python3\n",
    "```\n",
    "3. Verify that Python is installed correctly by entering the following command:\n",
    "\n",
    "\n",
    "```bash\n",
    "python3 --version\n",
    "```\n",
    "Installing Python on MacOS\n",
    "\n",
    "MacOS comes with Python pre-installed. However, it's recommended to install Python using Homebrew, a package manager for MacOS. Here's how to install Python on MacOS using Homebrew:\n",
    "\n",
    "1. Open a terminal and install Homebrew by entering the following command:\n",
    "\n",
    "\n",
    "```bash\n",
    "/bin/bash -c \"$(curl -fsSL https://raw.githubusercontent.com/Homebrew/install/HEAD/install.sh)\"\n",
    "```\n",
    "2. Install Python by entering the following command:\n",
    "\n",
    "\n",
    "```python\n",
    "brew install python\n",
    "```\n",
    "3. Verify that Python is installed correctly by entering the following command:\n",
    "\n",
    "\n",
    "```python\n",
    "python3 --version\n",
    "```\n",
    "Setting up the Development Environment\n",
    "\n",
    "After installing Python, you need to set up the development environment to start coding. Here are the steps to set up the development environment:\n",
    "\n",
    "1. Choose an integrated development environment (IDE) or a code editor to write your Python code. Some popular choices include PyCharm, Visual Studio Code, and Sublime Text.\n",
    "2. Install any necessary packages or libraries that your project requires using pip, the package installer for Python. For example, if you're working on a data science project, you might need to install NumPy, Pandas, and Matplotlib using the following command:\n",
    "\n",
    "\n",
    "```python\n",
    "pip install numpy pandas matplotlib\n",
    "```\n",
    "3. Start writing your Python code in the IDE or code editor of your choice.\n",
    "\n",
    "Conclusion\n",
    "\n",
    "Installing Python and setting up the development environment is easy and straightforward. By following the steps outlined in this post, you can quickly get started with Python and start coding. Remember to keep your packages and libraries up to date to ensure that your code runs smoothly. Happy coding!\n",
    "\n",
    "\n",
    "### Introduction to Python: Running Python Scripts and Using the Interactive Shell\n",
    "\n",
    "Python is a versatile programming language that can be used for a wide range of applications, from web development to data analysis. Once you have installed Python and set up your development environment, you can start running Python scripts and using the interactive shell to write and execute code. In this post, we will cover how to run Python scripts and use the interactive shell.\n",
    "\n",
    "Running Python Scripts\n",
    "\n",
    "Python scripts are plain text files that contain Python code. To run a Python script, you need to save the file with a .py extension and then execute it using the Python interpreter. Here's how to run a Python script:\n",
    "\n",
    "1. Open a command prompt or terminal.\n",
    "2. Navigate to the directory where your Python script is saved using the cd command. For example, if your script is saved in a folder called \"my\\_project\" on your desktop, you can navigate to it using the following command:\n",
    "\n",
    "\n",
    "```python\n",
    "cd ~/Desktop/my_project\n",
    "```\n",
    "3. Execute the script using the following command:\n",
    "\n",
    "\n",
    "```python\n",
    "python script_name.py\n",
    "```\n",
    "Replace \"script\\_name.py\" with the name of your Python script.\n",
    "\n",
    "Using the Interactive Shell\n",
    "\n",
    "The Python interactive shell is a powerful tool that allows you to test and experiment with Python code interactively. You can use the interactive shell to write and execute Python code one line at a time. Here's how to use the interactive shell:\n",
    "\n",
    "1. Open a command prompt or terminal.\n",
    "2. Enter the following command to launch the Python interpreter:\n",
    "\n",
    "\n",
    "```python\n",
    "python\n",
    "```\n",
    "3. You should see a prompt that looks like this:\n",
    "\n",
    "\n",
    "```python\n",
    ">>>\n",
    "```\n",
    "This is the Python prompt, which indicates that you can start entering Python code.\n",
    "\n",
    "4. Enter some Python code, such as:"
   ]
  },
  {
   "cell_type": "code",
   "execution_count": 2,
   "id": "cd0311cc",
   "metadata": {},
   "outputs": [
    {
     "name": "stdout",
     "output_type": "stream",
     "text": [
      "Hello, world!\n"
     ]
    }
   ],
   "source": [
    "print(\"Hello, world!\")"
   ]
  },
  {
   "cell_type": "markdown",
   "id": "ef6a6bdc",
   "metadata": {},
   "source": [
    "5. Press Enter to execute the code. You should see the following output:\n",
    "\n",
    "\n",
    "```\n",
    "Hello, world!\n",
    "```\n",
    "6. You can also use the interactive shell as a calculator. For example, you can enter the following code to perform basic arithmetic operations:"
   ]
  },
  {
   "cell_type": "code",
   "execution_count": 3,
   "id": "76c63e3c",
   "metadata": {},
   "outputs": [
    {
     "data": {
      "text/plain": [
       "5.0"
      ]
     },
     "execution_count": 3,
     "metadata": {},
     "output_type": "execute_result"
    }
   ],
   "source": [
    "2 + 2\n",
    "10 / 2"
   ]
  },
  {
   "cell_type": "markdown",
   "id": "04ecd99f",
   "metadata": {},
   "source": [
    "7. To exit the interactive shell, enter the following command:\n",
    "\n",
    "\n",
    "```python\n",
    "exit()\n",
    "```\n",
    "Conclusion\n",
    "\n",
    "Running Python scripts and using the interactive shell are essential skills for anyone who wants to learn Python. By following the steps outlined in this post, you can easily run Python scripts and experiment with Python code using the interactive shell. Remember to save your Python scripts with a .py extension and use the Python interpreter to execute them. Happy coding!\n",
    "\n",
    "\n",
    "## Using IPython as a Calculator and to Calculate Tax Rates\n",
    "\n",
    "  IPython is an interactive shell for Python that provides enhanced functionality compared to the standard Python interpreter. One of the features that makes IPython so useful is its ability to be used as a calculator. In this post, we'll cover how to use IPython as a calculator and also use it to calculate tax rates.\n",
    "\n",
    "  ### Using IPython as a Calculator\n",
    "\n",
    "  To use IPython as a calculator, simply type mathematical expressions into the IPython prompt and press enter. IPython supports all the basic mathematical operations, including addition, subtraction, multiplication, and division.\n",
    "\n",
    "  Here's an example of using IPython as a calculator:"
   ]
  },
  {
   "cell_type": "code",
   "execution_count": 4,
   "id": "4817b671",
   "metadata": {},
   "outputs": [
    {
     "data": {
      "text/plain": [
       "4"
      ]
     },
     "execution_count": 4,
     "metadata": {},
     "output_type": "execute_result"
    }
   ],
   "source": [
    "2 + 2"
   ]
  },
  {
   "cell_type": "code",
   "execution_count": 5,
   "id": "088a8945",
   "metadata": {},
   "outputs": [
    {
     "data": {
      "text/plain": [
       "5.0"
      ]
     },
     "execution_count": 5,
     "metadata": {},
     "output_type": "execute_result"
    }
   ],
   "source": [
    "10 / 2"
   ]
  },
  {
   "cell_type": "markdown",
   "id": "28a9cf7b",
   "metadata": {},
   "source": [
    "  As you can see, IPython returns the results of the mathematical expressions you enter. You can use IPython to perform more complex calculations as well, such as exponentiation and trigonometric functions.\n",
    "\n",
    "#### Using IPython to Calculate Tax Rates\n",
    "\n",
    "  Now let's see how to use IPython to calculate tax rates. Suppose you have a salary of $50,000 and you want to calculate your federal income tax. The federal income tax rate is based on your income and is calculated using a series of brackets.\n",
    "\n",
    "  Here's how you can use IPython to calculate your federal income tax:\n",
    "\n",
    "  1. Open IPython by typing `ipython` into your terminal.\n",
    "  2. Enter your salary as a variable:\n",
    "\n",
    "\n",
    "  ```python\n",
    "  In [1]: salary = 50000\n",
    "  ```\n",
    "  3. Define the tax brackets and rates using lists:\n",
    "\n",
    "\n",
    "  ```python\n",
    "  In [2]: brackets = [9875, 40125, 85525, 163300, 207350, 518400]\n",
    "  In [3]: rates = [0.1, 0.12, 0.22, 0.24, 0.32, 0.35, 0.37]\n",
    "  ```\n",
    "  The `brackets` list contains the upper limit of each tax bracket, and the `rates` list contains the tax rate for each bracket.\n",
    "\n",
    "  4. Write a function to calculate the tax based on the salary and tax brackets:\n",
    "\n",
    "\n",
    "  ```python\n",
    "  def calculate_tax(salary):\n",
    "  tax = 0\n",
    "  for i in range(len(brackets)):\n",
    "    if salary > brackets[i]:\n",
    "      tax += (brackets[i] - (brackets[i-1] if i>0 else 0)) * rates[i]\n",
    "    else:\n",
    "      tax += (salary - (brackets[i-1] if i>0 else 0)) * rates[i]\n",
    "    break\n",
    "  return tax\n",
    "  ```\n",
    "  The `calculate_tax()` function uses a loop to calculate the tax based on the salary and tax brackets. It first checks if the salary is greater than the upper limit of each tax bracket. If it is, it calculates the tax for that bracket by multiplying the difference between the upper limit and the previous upper limit (or zero for the first bracket) by the tax rate. If the salary is less than the upper limit of a bracket, it calculates the tax by multiplying the difference between the salary and the previous upper limit (or zero for the first bracket) by the tax rate.\n",
    "\n",
    "  5. Call the `calculate_tax()` function with your salary as an argument:"
   ]
  },
  {
   "cell_type": "code",
   "execution_count": 6,
   "id": "664d26b9",
   "metadata": {},
   "outputs": [
    {
     "data": {
      "text/plain": [
       "'Your income tax is: 987.5'"
      ]
     },
     "execution_count": 6,
     "metadata": {},
     "output_type": "execute_result"
    }
   ],
   "source": [
    "salary = 50000\n",
    "rates = [0.1, 0.12, 0.22, 0.24, 0.32, 0.35, 0.37]\n",
    "brackets = [9875, 40125, 85525, 163300, 207350, 518400]\n",
    "def calculate_tax(salary):\n",
    " tax = 0\n",
    " for i in range(len(brackets)):\n",
    "   if salary > brackets[i]:\n",
    "     tax += (brackets[i] - (brackets[i-1] if i>0 else 0)) * rates[i]\n",
    "   else:\n",
    "     tax += (salary - (brackets[i-1] if i>0 else 0)) * rates[i]\n",
    "   break\n",
    " return tax\n",
    "output = f\"Your income tax is: {calculate_tax(salary)}\"\n",
    "\n",
    "output"
   ]
  },
  {
   "cell_type": "markdown",
   "id": "7814572d",
   "metadata": {},
   "source": [
    "According to this calculation, your federal income tax would be \\$7,160 based on a salary of \\$50,000."
   ]
  }
 ],
 "metadata": {
  "jupytext": {
   "formats": "md:myst",
   "text_representation": {
    "extension": ".md",
    "format_name": "myst",
    "format_version": 0.13,
    "jupytext_version": "1.11.5"
   }
  },
  "kernelspec": {
   "display_name": "Python 3",
   "language": "python",
   "name": "python3"
  },
  "language_info": {
   "codemirror_mode": {
    "name": "ipython",
    "version": 3
   },
   "file_extension": ".py",
   "mimetype": "text/x-python",
   "name": "python",
   "nbconvert_exporter": "python",
   "pygments_lexer": "ipython3",
   "version": "3.10.10"
  },
  "source_map": [
   13,
   38,
   40,
   218,
   220,
   230,
   233,
   256,
   260,
   262,
   307,
   323
  ]
 },
 "nbformat": 4,
 "nbformat_minor": 5
}