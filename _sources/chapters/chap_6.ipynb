{
 "cells": [
  {
   "cell_type": "markdown",
   "id": "36775e95",
   "metadata": {},
   "source": [
    "# Chapter 6: Exceptions and errors\n",
    "\n",
    "In Python, exceptions and errors are used to indicate that something unexpected or abnormal has happened during the execution of a program. Exceptions and errors can be caused by a variety of factors, such as incorrect input data, insufficient memory, or invalid syntax.\n",
    "\n",
    "When an exception or error occurs, Python raises an exception object. This object contains information about the error, including its type, message, and traceback. The traceback provides a detailed report of the sequence of function calls that led to the exception.\n",
    "\n",
    "## Built-in Exceptions\n",
    "Python provides a range of built-in exceptions and errors, including:\n",
    "\n",
    "* SyntaxError: raised when there is a syntax error in the code\n",
    "* NameError: raised when a variable or function name is not found\n",
    "* TypeError: raised when an operation or function is applied to an object of inappropriate type\n",
    "* ValueError: raised when an operation or function receives an argument of the correct type but an inappropriate value\n",
    "* IndexError: raised when an index is out of range\n",
    "* KeyError: raised when a dictionary key is not found\n",
    "* ImportError: raised when a module cannot be imported\n",
    "* IOError: raised when an input/output operation fails\n",
    "\n",
    "By handling exceptions and errors in a program, you can make your code more robust and prevent it from crashing unexpectedly.\n",
    "\n",
    "\n",
    "Python provides a way to handle exceptions using the try-except-finally block. The try block is used to enclose the code that might raise an exception. The except block is used to handle the exception if it occurs, and the finally block is used to execute code that must be run regardless of whether or not an exception occurred.\n",
    "\n",
    "\n",
    "## Using Exceptions\n",
    "Here is the basic syntax of a try-except-finally block:\n",
    "\n",
    "\n",
    "```python\n",
    "try:\n",
    " # code that might raise an exception\n",
    "except ExceptionType:\n",
    " # code to handle the exception\n",
    "finally:\n",
    " # code that will be executed regardless of whether or not an exception occurred\n",
    "```\n",
    "The try block contains the code that might raise an exception. If an exception occurs, the code inside the except block is executed. The ExceptionType argument specifies the type of exception that the except block should handle. If the ExceptionType argument is omitted, the except block will handle all exceptions.\n",
    "\n",
    "The finally block contains code that will be executed regardless of whether or not an exception occurred. This block is often used to release resources that were acquired in the try block, such as file handles or network connections.\n",
    "\n",
    "Here is an example of using a try-except-finally block to handle a division by zero exception:\n",
    "\n",
    "\n",
    "```python\n",
    "try:\n",
    " x = 1 / 0\n",
    "except ZeroDivisionError:\n",
    " print(\"Error: division by zero\")\n",
    "finally:\n",
    " print(\"This code will be executed regardless of whether or not an exception occurred.\")\n",
    "```\n",
    "In this example, the try block attempts to divide 1 by 0, which raises a ZeroDivisionError exception. The except block catches this exception and prints an error message. The finally block prints a message indicating that it will be executed regardless of whether or not an exception occurred.\n",
    "\n",
    "By using try-except-finally blocks, you can handle exceptions in a controlled and structured way, making your code more robust and reliable.\n",
    "\n",
    "\n",
    "In addition to handling exceptions, you can also raise exceptions in Python using the raise statement or assert statement. The raise statement is used to raise a specific exception, while the assert statement is used to raise an AssertionError exception if a condition is not met.\n",
    "\n",
    "Here's an overview of how to use these statements:\n",
    "\n",
    "1. raise statement:\n",
    "\n",
    "To raise an exception using the raise statement, you need to specify the type of exception to be raised and an optional error message. Here is the basic syntax of the raise statement:\n",
    "\n",
    "\n",
    "```python\n",
    "raise ExceptionType(\"Error message\")\n",
    "```\n",
    "Here, ExceptionType specifies the type of exception to be raised, and \"Error message\" is an optional error message that provides more information about the exception.\n",
    "\n",
    "Here's an example of using the raise statement to raise a ValueError exception:\n",
    "\n",
    "\n",
    "```python\n",
    "age = -1\n",
    "if age < 0:\n",
    " raise ValueError(\"Age cannot be negative\")\n",
    "```\n",
    "In this example, if the value of the age variable is negative, a ValueError exception will be raised with the message \"Age cannot be negative\".\n",
    "\n",
    "2. assert statement:\n",
    "\n",
    "The assert statement is used to check a condition and raise an AssertionError exception if the condition is not met. The basic syntax of the assert statement is:\n",
    "\n",
    "\n",
    "```python\n",
    "assert condition, \"Error message\"\n",
    "```\n",
    "Here, condition is the expression that is tested, and \"Error message\" is an optional error message that provides more information about the assertion error.\n",
    "\n",
    "Here's an example of using the assert statement to check that a value is positive:\n",
    "\n",
    "\n",
    "```python\n",
    "x = -1\n",
    "assert x > 0, \"Value must be positive\"\n",
    "```\n",
    "In this example, the assert statement will raise an AssertionError with the message \"Value must be positive\" if the value of x is not positive.\n",
    "\n",
    "By raising exceptions using the raise statement or assert statement, you can ensure that your code behaves correctly and reports errors in a clear and consistent way.\n",
    "\n",
    "\n",
    "Python provides a range of built-in exceptions that you can use to handle errors and exceptions in your code. Here are some examples of how to use some of the most commonly used built-in exceptions:\n",
    "\n",
    "1. ValueError:\n",
    "\n",
    "The ValueError exception is raised when an operation or function receives an argument of the correct type but an inappropriate value. Here's an example of using the ValueError exception:\n",
    "\n",
    "\n",
    "```python\n",
    "x = input(\"Enter a number: \")\n",
    "if not x.isdigit():\n",
    " raise ValueError(\"Input must be a number\")\n",
    "```\n",
    "In this example, the input() function is used to read a value from the user. The isdigit() method is then used to check whether the input value is a number. If the input is not a number, a ValueError exception is raised with the message \"Input must be a number\".\n",
    "\n",
    "2. IndexError:\n",
    "\n",
    "The IndexError exception is raised when an index is out of range. Here's an example of using the IndexError exception:"
   ]
  },
  {
   "cell_type": "code",
   "execution_count": 1,
   "id": "3b74abd2",
   "metadata": {},
   "outputs": [
    {
     "name": "stdout",
     "output_type": "stream",
     "text": [
      "Index is out of range\n"
     ]
    }
   ],
   "source": [
    "my_list = [1, 2, 3]\n",
    "try:\n",
    " print(my_list[3])\n",
    "except IndexError:\n",
    " print(\"Index is out of range\")"
   ]
  },
  {
   "cell_type": "markdown",
   "id": "d5784bda",
   "metadata": {},
   "source": [
    "In this example, the try-except block is used to catch an IndexError that might be raised if we try to access an index that is out of range. If an IndexError occurs, the except block will print the message \"Index is out of range\".\n",
    "\n",
    "3. KeyError:\n",
    "\n",
    "The KeyError exception is raised when a dictionary key is not found. Here's an example of using the KeyError exception:"
   ]
  },
  {
   "cell_type": "code",
   "execution_count": 2,
   "id": "eaf114a3",
   "metadata": {},
   "outputs": [
    {
     "name": "stdout",
     "output_type": "stream",
     "text": [
      "Key not found\n"
     ]
    }
   ],
   "source": [
    "my_dict = {\"name\": \"John\", \"age\": 30}\n",
    "try:\n",
    " print(my_dict[\"address\"])\n",
    "except KeyError:\n",
    " print(\"Key not found\")"
   ]
  },
  {
   "cell_type": "markdown",
   "id": "63b5e893",
   "metadata": {},
   "source": [
    "In this example, the try-except block is used to catch a KeyError that might be raised if we try to access a key that does not exist in the dictionary. If a KeyError occurs, the except block will print the message \"Key not found\".\n",
    "\n",
    "By using built-in exceptions in Python, you can handle errors and exceptions in a more controlled and structured way, making your code more robust and reliable.\n",
    "\n",
    "\n",
    "In Python, you can create your own custom exceptions by defining a new exception class that inherits from the built-in Exception class. Here's an example of how to create a custom exception class:"
   ]
  },
  {
   "cell_type": "code",
   "execution_count": 3,
   "id": "bfc31281",
   "metadata": {},
   "outputs": [],
   "source": [
    "class MyCustomException(Exception):\n",
    " pass"
   ]
  },
  {
   "cell_type": "markdown",
   "id": "3ad2c4a6",
   "metadata": {},
   "source": [
    "In this example, we define a new exception class called MyCustomException that inherits from the built-in Exception class. The pass keyword is used to indicate that we don't need to add any additional functionality to our exception class at this point.\n",
    "\n",
    "Once you have defined your custom exception class, you can use it in your code by raising an instance of the class. Here's an example of how to raise an instance of our custom exception class:"
   ]
  },
  {
   "cell_type": "code",
   "execution_count": 4,
   "id": "6b524c0b",
   "metadata": {},
   "outputs": [
    {
     "name": "stdout",
     "output_type": "stream",
     "text": [
      "Input must be non-negative\n"
     ]
    }
   ],
   "source": [
    "def my_function(x):\n",
    " if x < 0:\n",
    "  raise MyCustomException(\"Input must be non-negative\")\n",
    " else:\n",
    "  return x ** 2\n",
    "\n",
    "try:\n",
    " result = my_function(-1)\n",
    "except MyCustomException as e:\n",
    " print(e)"
   ]
  },
  {
   "cell_type": "markdown",
   "id": "f73f1a72",
   "metadata": {},
   "source": [
    "In this example, we define a function called my\\_function that raises an instance of our custom exception class if the input value is negative. We then use a try-except block to catch any instances of our custom exception class that might be raised by our function. If an instance of our custom exception class is caught, we print the exception message.\n",
    "\n",
    "By defining your own custom exceptions, you can create more meaningful and descriptive error messages that are specific to your application or domain. This can help you to write more robust and reliable code that is easier to debug and maintain."
   ]
  }
 ],
 "metadata": {
  "jupytext": {
   "formats": "md:myst",
   "text_representation": {
    "extension": ".md",
    "format_name": "myst",
    "format_version": 0.13,
    "jupytext_version": "1.11.5"
   }
  },
  "kernelspec": {
   "display_name": "Python 3",
   "language": "python",
   "name": "python3"
  },
  "language_info": {
   "codemirror_mode": {
    "name": "ipython",
    "version": 3
   },
   "file_extension": ".py",
   "mimetype": "text/x-python",
   "name": "python",
   "nbconvert_exporter": "python",
   "pygments_lexer": "ipython3",
   "version": "3.10.10"
  },
  "source_map": [
   13,
   136,
   142,
   150,
   156,
   165,
   168,
   174,
   185
  ]
 },
 "nbformat": 4,
 "nbformat_minor": 5
}